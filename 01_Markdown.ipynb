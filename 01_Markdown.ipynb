{
 "cells": [
  {
   "cell_type": "markdown",
   "id": "d0522d9e",
   "metadata": {},
   "source": [
    "# Uso de Markdown\n",
    "\n"
   ]
  },
  {
   "cell_type": "markdown",
   "id": "71fdad1d",
   "metadata": {},
   "source": [
    "# Títulos\n",
    "\n",
    "Todos los títulos empiezan con signo ```#```\n",
    "\n",
    "\n",
    "# Título 1\n",
    "\n",
    "## Título 2\n",
    "\n",
    "### Título 3\n",
    "\n",
    "#### Título 4\n",
    "\n",
    "##### Título 5\n",
    "\n",
    "###### Título 6\n",
    "\n"
   ]
  },
  {
   "cell_type": "markdown",
   "id": "371e4f3e",
   "metadata": {},
   "source": [
    "# Blockquote\n",
    "\n",
    "los _blockquotes_ se hacen con el signo ```>```\n",
    "\n",
    "> # título del blockquote\n",
    "> Este es el párrafo del blockquote\n",
    ">\n",
    ">> Este es un blockquote anidado\n",
    ">> Tenemos más texto\n",
    ">\n",
    "> ## Segunda parte\n",
    "> Más texto"
   ]
  },
  {
   "cell_type": "markdown",
   "id": "63ab7ae5",
   "metadata": {},
   "source": [
    "# Énfasis\n",
    "\n",
    "Se pueden poner **negrillas** con doble carácter ```*``` o un ```_```\n",
    "\n",
    "Se pueden poner *italicas* con doble carácter ```*``` o un ```_```\n",
    "\n",
    "Se puede hacer ~~tachado~~ utilizando doble virgulilla ```~~```"
   ]
  },
  {
   "cell_type": "markdown",
   "id": "5abb0df8",
   "metadata": {},
   "source": [
    "# Listas\n",
    "\n",
    "## Ordenadas\n",
    "\n",
    "1. Colores\n",
    "  1. Rojo\n",
    "  2. Azul\n",
    "  3. Verde\n",
    "2. Sabores\n",
    "  1. Salado\n",
    "  2. Dulce\n",
    "  \n",
    "## No Ordenadas\n",
    "\n",
    "* Animales\n",
    "\n",
    "  _ Perro\n",
    "  \n",
    "  _Gato\n",
    "  \n",
    "  _Caiman\n",
    "  \n",
    "* Frutas\n",
    "  - Citricos\n",
    "    + Limon\n",
    "    + Naranja\n",
    "    + Toronja\n",
    "  - Manzana\n",
    "  - Pera\n",
    "  \n",
    "  \n",
    "  "
   ]
  },
  {
   "cell_type": "markdown",
   "id": "37ded72b",
   "metadata": {},
   "source": [
    "# Enlaces\n",
    "\n",
    "Un enlace siempre tiene la forma ```[nombre](url)\"tooltip\"```\n",
    "\n",
    "### Libros\n",
    "* [Git Book](https://git-scm.com/book/en/v2) \n",
    "* [Coleción de Libros Python](https://wiki.python.org/moin/PythonBooks)"
   ]
  },
  {
   "cell_type": "markdown",
   "id": "e9ad0d42",
   "metadata": {},
   "source": [
    "# Imágenes \n",
    "\n",
    "Las imagenes tienen la forma ```![nombre](url)```\n",
    "\n",
    "![Jypter](https://blog.kakaocdn.net/dn/b9jHE0/btqy3bCemii/SRmJXGdUM8iazkk8kkHjJk/img.jpg)"
   ]
  },
  {
   "cell_type": "markdown",
   "id": "39ee6fb6",
   "metadata": {},
   "source": [
    "# Código\n",
    "\n",
    "Utilizar 4 espacios:\n",
    "\n",
    "    frutas = [`pera`, `manzana`, `piña`]\n",
    "    for fruta in frutas:\n",
    "        print(fruta)\n",
    "        \n",
    "En un bloque de codigo(4 espacios), los Tags HTML, no tiene efecto:\n",
    "\n",
    "    <html>\n",
    "     <head>\n",
    "         <title>No pasa nada</title>\n",
    "       </head>\n",
    "       <body>\n",
    "       </body>\n",
    "     </html>\n",
    "     \n",
    "Tambien se crea un bloque de codigo con triple comilla invertida:\n",
    "\n",
    "```python\n",
    "frutas = [`pera`, `manzana`, `piña`]\n",
    "   for fruta in frutas:\n",
    "      print(fruta)\n",
    "```\n",
    "\n",
    "Otro ejemplo:\n",
    "\n",
    "```html\n",
    "<html>\n",
    "  <head>\n",
    "    <title>No pasa nada</title>\n",
    "  </head>\n",
    "  <body>\n",
    "  </body>\n",
    "  </html>\n",
    "```\n"
   ]
  },
  {
   "cell_type": "code",
   "execution_count": null,
   "id": "cd42e272",
   "metadata": {},
   "outputs": [],
   "source": []
  },
  {
   "cell_type": "code",
   "execution_count": null,
   "id": "c0dfb232",
   "metadata": {},
   "outputs": [],
   "source": []
  }
 ],
 "metadata": {
  "kernelspec": {
   "display_name": "Python 3",
   "language": "python",
   "name": "python3"
  },
  "language_info": {
   "codemirror_mode": {
    "name": "ipython",
    "version": 3
   },
   "file_extension": ".py",
   "mimetype": "text/x-python",
   "name": "python",
   "nbconvert_exporter": "python",
   "pygments_lexer": "ipython3",
   "version": "3.8.8"
  }
 },
 "nbformat": 4,
 "nbformat_minor": 5
}
